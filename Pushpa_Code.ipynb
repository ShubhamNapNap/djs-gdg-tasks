{
  "nbformat": 4,
  "nbformat_minor": 0,
  "metadata": {
    "colab": {
      "provenance": [],
      "authorship_tag": "ABX9TyPXLzJVDQdJZ5mKpvuE5jyY",
      "include_colab_link": true
    },
    "kernelspec": {
      "name": "python3",
      "display_name": "Python 3"
    },
    "language_info": {
      "name": "python"
    }
  },
  "cells": [
    {
      "cell_type": "markdown",
      "metadata": {
        "id": "view-in-github",
        "colab_type": "text"
      },
      "source": [
        "<a href=\"https://colab.research.google.com/github/ShubhamNapNap/djs-gdg-tasks/blob/main/Pushpa_Code.ipynb\" target=\"_parent\"><img src=\"https://colab.research.google.com/assets/colab-badge.svg\" alt=\"Open In Colab\"/></a>"
      ]
    },
    {
      "cell_type": "code",
      "execution_count": null,
      "metadata": {
        "colab": {
          "base_uri": "https://localhost:8080/"
        },
        "id": "Q_V9tfyFr5DX",
        "outputId": "9577fb68-0b20-4897-b025-6089695d4ec1"
      },
      "outputs": [
        {
          "output_type": "stream",
          "name": "stdout",
          "text": [
            "[[1, 1, 1], [0, 1, 1], [1, 1, 0]]\n",
            "No. of Trees: 7\n"
          ]
        }
      ],
      "source": [
        "def zone(forest, m, Rcenter, Ccenter):\n",
        "  radius = int(m/2)\n",
        "  Rstart = Rcenter - radius\n",
        "  Rend = Rcenter + radius\n",
        "  Cstart = Ccenter - radius\n",
        "  Cend = Ccenter + radius\n",
        "  Ezone = []\n",
        "  Trees = 0\n",
        "  for i in range(Rstart, Rend+1):\n",
        "    T = forest[i][Cstart:Cend+1]\n",
        "    Ezone.append(T)\n",
        "    Trees = Trees + sum(T)\n",
        "  print(Ezone)\n",
        "  print(f\"No. of Trees: {Trees}\")\n",
        "\n",
        "forest_map = [\n",
        "[1,0,0,0,1],\n",
        "[1,0,1,1,1],\n",
        "[1,1,0,1,1],\n",
        "[1,0,1,1,0],\n",
        "[0,1,0,1,1]\n",
        "]\n",
        "\n",
        "zone(forest_map,3,2,3)"
      ]
    }
  ]
}