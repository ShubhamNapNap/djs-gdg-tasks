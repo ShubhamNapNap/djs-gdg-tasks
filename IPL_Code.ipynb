{
  "nbformat": 4,
  "nbformat_minor": 0,
  "metadata": {
    "colab": {
      "provenance": [],
      "authorship_tag": "ABX9TyOhYsfTyvh002brwfukPyGJ",
      "include_colab_link": true
    },
    "kernelspec": {
      "name": "python3",
      "display_name": "Python 3"
    },
    "language_info": {
      "name": "python"
    }
  },
  "cells": [
    {
      "cell_type": "markdown",
      "metadata": {
        "id": "view-in-github",
        "colab_type": "text"
      },
      "source": [
        "<a href=\"https://colab.research.google.com/github/ShubhamNapNap/djs-gdg-tasks/blob/main/IPL_Code.ipynb\" target=\"_parent\"><img src=\"https://colab.research.google.com/assets/colab-badge.svg\" alt=\"Open In Colab\"/></a>"
      ]
    },
    {
      "cell_type": "code",
      "execution_count": null,
      "metadata": {
        "colab": {
          "base_uri": "https://localhost:8080/"
        },
        "id": "6LPPpw0nyMbz",
        "outputId": "df81354a-5447-4599-8212-36d607fbd7de"
      },
      "outputs": [
        {
          "output_type": "stream",
          "name": "stdout",
          "text": [
            "Best team score wise: \n",
            "Bumrah\n",
            "Jadeja\n",
            "Siraj\n",
            "DK\n",
            "9\n"
          ]
        }
      ],
      "source": [
        "import itertools\n",
        "class player:\n",
        "  def __init__(self,name,strength, weak):\n",
        "    self.name = name\n",
        "    self.strengths = set(strength)\n",
        "    self.weaknesses = set(weak)\n",
        "\n",
        "  def __str__(self):\n",
        "     return self.name\n",
        "\n",
        "Player_data = [\n",
        "    (\"Virat Kohli\", [\"Chase_master\",\"fast_bowling_destroyer\",\"fielding\"], [\"left_arm_spin\"]),\n",
        "    (\"Rahul\", [\"opener\", \"power_play\", \"wicketkeeping\"], [\"pressure\", \"death_bowling\"]),\n",
        "    (\"Bumrah\", [\"death_bowling\", \"yorkers\", \"economy\"], [\"batting\"]),\n",
        "    (\"Jadeja\", [\"power_hitting\", \"off_spin\", \"fielding\"], []),\n",
        "    (\"Maxwell\", [\"spin_bowling\", \"fielding\", \"finisher\"], [\"pace_bounce\", \"consistency\"]),\n",
        "    (\"Siraj\", [\"swing_bowling\", \"new_ball\"], [\"batting\"]),\n",
        "    (\"Shreyas\", [\"middle_order\", \"spin_hitter\"], [\"express_pace\", \"short_ball\"]),\n",
        "    (\"Chahal\", [\"leg_spin\", \"wicket_taker\"], [\"fielding\", \"batting\", \"expensive\"]),\n",
        "    (\"DK\", [\"finisher\", \"wicketkeeping\", \"experience\"], [\"poor_wicketkeeping\"]),\n",
        "    (\"Faf\", [\"opener\", \"experience\", \"fielding\"], [\"slow_starter\"])\n",
        "]\n",
        "\n",
        "PlayerList = [\n",
        "  player(name,strength, weak)\n",
        "  for name, strength, weak in Player_data\n",
        "]\n",
        "\n",
        "def best(players, k):\n",
        "    best_team = []\n",
        "    best_score = 0\n",
        "\n",
        "    for combo in itertools.combinations(players, k):\n",
        "        strengths = set()\n",
        "        weaknesses = set()\n",
        "        for p in combo:\n",
        "            strengths.update(p.strengths)\n",
        "            weaknesses.update(p.weaknesses)\n",
        "        score = len(strengths) - len(weaknesses)\n",
        "        if score > best_score:\n",
        "            best_score = score\n",
        "            best_team = combo\n",
        "    print(\"Best team score wise: \")\n",
        "    for p in best_team:\n",
        "      print(p)\n",
        "    print(best_score)\n",
        "\n",
        "\n",
        "best(PlayerList, 4)"
      ]
    }
  ]
}